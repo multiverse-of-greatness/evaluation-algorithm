{
 "cells": [
  {
   "cell_type": "code",
   "execution_count": 23,
   "metadata": {},
   "outputs": [],
   "source": [
    "import json\n",
    "import os\n",
    "from pathlib import Path\n",
    "\n",
    "import numpy as np"
   ]
  },
  {
   "cell_type": "code",
   "execution_count": 24,
   "metadata": {},
   "outputs": [
    {
     "data": {
      "text/plain": [
       "['488395e4-d625-11ee-9079-9a01b5b45ca5']"
      ]
     },
     "execution_count": 24,
     "metadata": {},
     "output_type": "execute_result"
    }
   ],
   "source": [
    "OUTPUT_FOLDER = Path('..', 'outputs')\n",
    "stories = [f for f in os.listdir(OUTPUT_FOLDER) if not f.startswith('.')]\n",
    "stories"
   ]
  },
  {
   "cell_type": "code",
   "execution_count": 25,
   "metadata": {},
   "outputs": [
    {
     "name": "stdout",
     "output_type": "stream",
     "text": [
      "coherence 7.384615384615385 0.0\n",
      "inspiration 6.230769230769231 0.0\n",
      "narrative fluency 8.0 0.0\n",
      "readability 8.0 0.0\n",
      "word complexity 6.25 0.0\n",
      "---\n"
     ]
    }
   ],
   "source": [
    "for story in stories:\n",
    "    story_data_path = OUTPUT_FOLDER / story / \"main\"\n",
    "    criteria = sorted([file for file in os.listdir(story_data_path) if not file.startswith('.')])\n",
    "    for criterion in criteria:\n",
    "        files = [file for file in os.listdir(story_data_path / criterion) if not file.startswith('.')]\n",
    "        criterion_scores = []\n",
    "        for file in files:\n",
    "            with open(story_data_path / criterion / file, 'r') as file:\n",
    "                data = json.load(file)\n",
    "                factor_scores = data[\"parsed_output\"][criterion]\n",
    "                score_avg = np.mean([factor[\"score\"] for factor in factor_scores])\n",
    "                criterion_scores.append(score_avg)\n",
    "\n",
    "        criterion_avg = np.mean(criterion_scores)\n",
    "        criterion_sd = np.std(criterion_scores)\n",
    "        print(criterion, criterion_avg, criterion_sd)\n",
    "    print('---')"
   ]
  },
  {
   "cell_type": "code",
   "execution_count": 26,
   "metadata": {},
   "outputs": [
    {
     "name": "stdout",
     "output_type": "stream",
     "text": [
      "coherence 5.153846153846154 0.0\n",
      "inspiration 6.384615384615385 0.0\n",
      "narrative fluency 7.166666666666667 0.0\n",
      "readability 6.142857142857143 0.0\n",
      "word complexity 4.583333333333333 0.0\n",
      "---\n"
     ]
    }
   ],
   "source": [
    "for story in stories:\n",
    "    story_chunks_path = OUTPUT_FOLDER / story / \"chunks\"\n",
    "    chunks = sorted([file for file in os.listdir(story_chunks_path) if not file.startswith('.')])\n",
    "    for chunk in chunks:\n",
    "        criteria = sorted([file for file in os.listdir(story_chunks_path / chunk) if not file.startswith('.')])\n",
    "        for criterion in criteria:\n",
    "            files = [file for file in os.listdir(story_chunks_path / chunk / criterion) if not file.startswith('.')]\n",
    "            criterion_scores = []\n",
    "            for file in files:\n",
    "                with open(story_chunks_path / chunk / criterion / file, 'r') as file:\n",
    "                    data = json.load(file)\n",
    "                    factor_scores = data[\"parsed_output\"][criterion]\n",
    "                    score_avg = np.mean([factor[\"score\"] for factor in factor_scores])\n",
    "                    criterion_scores.append(score_avg)\n",
    "\n",
    "            criterion_avg = np.mean(criterion_scores)\n",
    "            criterion_sd = np.std(criterion_scores)\n",
    "            print(criterion, criterion_avg, criterion_sd)\n",
    "        print('---')"
   ]
  }
 ],
 "metadata": {
  "kernelspec": {
   "display_name": "multiverse-evaluation",
   "language": "python",
   "name": "python3"
  },
  "language_info": {
   "codemirror_mode": {
    "name": "ipython",
    "version": 3
   },
   "file_extension": ".py",
   "mimetype": "text/x-python",
   "name": "python",
   "nbconvert_exporter": "python",
   "pygments_lexer": "ipython3",
   "version": "3.11.8"
  }
 },
 "nbformat": 4,
 "nbformat_minor": 2
}
